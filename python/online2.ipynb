{
 "cells": [
  {
   "cell_type": "code",
   "execution_count": 1,
   "metadata": {},
   "outputs": [
    {
     "ename": "ValueError",
     "evalue": "invalid literal for int() with base 10: ''",
     "output_type": "error",
     "traceback": [
      "\u001b[0;31m---------------------------------------------------------------------------\u001b[0m",
      "\u001b[0;31mValueError\u001b[0m                                Traceback (most recent call last)",
      "Cell \u001b[0;32mIn[1], line 64\u001b[0m\n\u001b[1;32m     61\u001b[0m     \u001b[38;5;28mprint\u001b[39m(\u001b[38;5;124m\"\u001b[39m\u001b[38;5;124mCoefficients:\u001b[39m\u001b[38;5;124m\"\u001b[39m, \u001b[38;5;124m'\u001b[39m\u001b[38;5;124m \u001b[39m\u001b[38;5;124m'\u001b[39m\u001b[38;5;241m.\u001b[39mjoin(\u001b[38;5;28mmap\u001b[39m(\u001b[38;5;28mstr\u001b[39m, result_signal\u001b[38;5;241m.\u001b[39mvalues\u001b[38;5;241m.\u001b[39mastype(\u001b[38;5;28mint\u001b[39m))))\n\u001b[1;32m     63\u001b[0m \u001b[38;5;66;03m# Call the function to perform polynomial multiplication\u001b[39;00m\n\u001b[0;32m---> 64\u001b[0m \u001b[43mpolynomial_multiplication\u001b[49m\u001b[43m(\u001b[49m\u001b[43m)\u001b[49m\n",
      "Cell \u001b[0;32mIn[1], line 41\u001b[0m, in \u001b[0;36mpolynomial_multiplication\u001b[0;34m()\u001b[0m\n\u001b[1;32m     39\u001b[0m \u001b[38;5;28;01mdef\u001b[39;00m \u001b[38;5;21mpolynomial_multiplication\u001b[39m():\n\u001b[1;32m     40\u001b[0m     \u001b[38;5;66;03m# Input for first polynomial\u001b[39;00m\n\u001b[0;32m---> 41\u001b[0m     d1 \u001b[38;5;241m=\u001b[39m \u001b[38;5;28;43mint\u001b[39;49m\u001b[43m(\u001b[49m\u001b[38;5;28;43minput\u001b[39;49m\u001b[43m(\u001b[49m\u001b[38;5;124;43m\"\u001b[39;49m\u001b[38;5;124;43mDegree of the first polynomial: \u001b[39;49m\u001b[38;5;124;43m\"\u001b[39;49m\u001b[43m)\u001b[49m\u001b[43m)\u001b[49m\n\u001b[1;32m     42\u001b[0m     poly1 \u001b[38;5;241m=\u001b[39m \u001b[38;5;28mlist\u001b[39m(\u001b[38;5;28mmap\u001b[39m(\u001b[38;5;28mint\u001b[39m, \u001b[38;5;28minput\u001b[39m(\u001b[38;5;124m\"\u001b[39m\u001b[38;5;124mCoefficients: \u001b[39m\u001b[38;5;124m\"\u001b[39m)\u001b[38;5;241m.\u001b[39msplit()))\n\u001b[1;32m     44\u001b[0m     \u001b[38;5;66;03m# Input for second polynomial\u001b[39;00m\n",
      "\u001b[0;31mValueError\u001b[0m: invalid literal for int() with base 10: ''"
     ]
    }
   ],
   "source": [
    "import numpy as np\n",
    "\n",
    "class DiscreteSignal:\n",
    "    def __init__(self, values):\n",
    "        self.values = values\n",
    "\n",
    "    def shift_signal(self, shift):\n",
    "        length = len(self.values)\n",
    "        shifted_values = np.zeros(length + abs(shift))\n",
    "        if shift >= 0:\n",
    "            shifted_values[shift:shift + length] = self.values\n",
    "        else:\n",
    "            shifted_values[:length + shift] = self.values[-shift:]\n",
    "        return DiscreteSignal(shifted_values)\n",
    "\n",
    "    def add(self, other):\n",
    "        max_length = max(len(self.values), len(other.values))\n",
    "        padded_self = np.pad(self.values, (0, max_length - len(self.values)), 'constant')\n",
    "        padded_other = np.pad(other.values, (0, max_length - len(other.values)), 'constant')\n",
    "        return DiscreteSignal(padded_self + padded_other)\n",
    "\n",
    "    def multiply_const_factor(self, scaler):\n",
    "        return DiscreteSignal(self.values * scaler)\n",
    "\n",
    "class LTI_Discrete:\n",
    "    def __init__(self, impulse_response):\n",
    "        self.impulse_response = impulse_response\n",
    "\n",
    "    def output(self, input_signal):\n",
    "        result_length = len(input_signal.values) + len(self.impulse_response.values) - 1\n",
    "        result = np.zeros(result_length)\n",
    "        for i, x in enumerate(input_signal.values):\n",
    "            shifted = self.impulse_response.shift_signal(i)\n",
    "            result = result + shifted.multiply_const_factor(x).values\n",
    "        return DiscreteSignal(result)\n",
    "\n",
    "\n",
    "\n",
    "def polynomial_multiplication():\n",
    "    # Input for first polynomial\n",
    "    d1 = int(input(\"Degree of the first polynomial: \"))\n",
    "    poly1 = list(map(int, input(\"Coefficients: \").split()))\n",
    "\n",
    "    # Input for second polynomial\n",
    "    d2 = int(input(\"Degree of the second polynomial: \"))\n",
    "    poly2 = list(map(int, input(\"Coefficients: \").split()))\n",
    "\n",
    "    # Create DiscreteSignal instances\n",
    "    signal1 = DiscreteSignal(np.array(poly1))\n",
    "    signal2 = DiscreteSignal(np.array(poly2))\n",
    "\n",
    "    # Create LTI system with the second polynomial as the impulse response\n",
    "    lti_system = LTI_Discrete(signal2)\n",
    "\n",
    "    # Get the output signal which is the convolution of the two polynomials\n",
    "    result_signal = lti_system.output(signal1)\n",
    "\n",
    "    # Print the result\n",
    "    result_degree = len(result_signal.values) - 1\n",
    "    print(\"Degree of the Polynomial:\", result_degree)\n",
    "    print(\"Coefficients:\", ' '.join(map(str, result_signal.values.astype(int))))\n",
    "\n",
    "# Call the function to perform polynomial multiplication\n",
    "polynomial_multiplication()"
   ]
  },
  {
   "cell_type": "code",
   "execution_count": null,
   "metadata": {},
   "outputs": [],
   "source": []
  }
 ],
 "metadata": {
  "kernelspec": {
   "display_name": ".venv",
   "language": "python",
   "name": "python3"
  },
  "language_info": {
   "codemirror_mode": {
    "name": "ipython",
    "version": 3
   },
   "file_extension": ".py",
   "mimetype": "text/x-python",
   "name": "python",
   "nbconvert_exporter": "python",
   "pygments_lexer": "ipython3",
   "version": "3.12.4"
  }
 },
 "nbformat": 4,
 "nbformat_minor": 2
}
